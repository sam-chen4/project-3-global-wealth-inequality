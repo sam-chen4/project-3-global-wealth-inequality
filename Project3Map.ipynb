{
 "cells": [
  {
   "cell_type": "code",
   "execution_count": 8,
   "metadata": {},
   "outputs": [],
   "source": [
    "\n",
    "import pandas as pd\n",
    "import numpy as np\n",
    "import json\n",
    "import geopy\n",
    "from geopy.geocoders import Nominatim\n",
    "import folium\n",
    "from folium.plugins import HeatMap\n",
    "import os"
   ]
  },
  {
   "cell_type": "code",
   "execution_count": 9,
   "metadata": {},
   "outputs": [],
   "source": [
    "with open(r'Resources\\data.json') as f:\n",
    "    locations = json.load(f)"
   ]
  },
  {
   "cell_type": "code",
   "execution_count": 11,
   "metadata": {},
   "outputs": [],
   "source": [
    "geolocator = Nominatim(user_agent=\"geo_app\")\n"
   ]
  },
  {
   "cell_type": "code",
   "execution_count": 12,
   "metadata": {},
   "outputs": [],
   "source": [
    "m = folium.Map(location=[20, 0], zoom_start=2)"
   ]
  },
  {
   "cell_type": "code",
   "execution_count": 15,
   "metadata": {},
   "outputs": [],
   "source": [
    "with open('Resources\\geocoded_data.json', 'r') as f:\n",
    "    geocoded_data = json.load(f)\n"
   ]
  },
  {
   "cell_type": "code",
   "execution_count": 16,
   "metadata": {},
   "outputs": [],
   "source": [
    "gdp_dict = {}\n",
    "for item in locations:\n",
    "    country = item['country']\n",
    "    gdp_dict[country] = {\n",
    "        'gdp_2018': item.get('gdp_2018', 'N/A'),\n",
    "        'gdp_2022': item.get('gdp_2022', 'N/A')\n",
    "    }\n",
    "\n",
    "merged_data = []\n",
    "for item in geocoded_data:\n",
    "    country_name = item['country']\n",
    "    gdp = gdp_dict.get(country_name, {'gdp_2018': 'N/A', 'gdp_2022': 'N/A'})\n",
    "    merged_data.append({\n",
    "        'country': country_name,\n",
    "        'lat': item['lat'],\n",
    "        'lon': item['lon'],\n",
    "        'gdp_2018': gdp['gdp_2018'],\n",
    "        'gdp_2022': gdp['gdp_2022']\n",
    "    })\n",
    "    \n",
    "# Save the merged data to a new JSON file\n",
    "with open('merged_data.json', 'w') as f:\n",
    "    json.dump(merged_data, f, indent=4)\n"
   ]
  },
  {
   "cell_type": "code",
   "execution_count": 18,
   "metadata": {},
   "outputs": [],
   "source": [
    "with open('Resources\\geocoded_data.json', 'r') as f:\n",
    "    geocoded_data = json.load(f)\n",
    "with open('Resources\\merged_data.json', 'r') as f:\n",
    "    merged_data = json.load(f)"
   ]
  },
  {
   "cell_type": "code",
   "execution_count": 19,
   "metadata": {},
   "outputs": [],
   "source": [
    "gdp_dict = {item['country']: {'gdp_2018': item.get('gdp_2018', 'N/A'), 'gdp_2022': item.get('gdp_2022', 'N/A')} for item in locations}\n",
    "\n",
    "for item in geocoded_data:\n",
    "    country = item['country']\n",
    "    if country in gdp_dict:\n",
    "        item['gdp_2018'] = gdp_dict[country]['gdp_2018']\n",
    "        item['gdp_2022'] = gdp_dict[country]['gdp_2022']\n",
    "    else:\n",
    "        item['gdp_2018'] = 'N/A'\n",
    "        item['gdp_2022'] = 'N/A'\n",
    "with open(\"geocoded_data_with_gdp.json\", 'w') as f:\n",
    "    json.dump(geocoded_data, f, indent=4)"
   ]
  },
  {
   "cell_type": "code",
   "execution_count": 20,
   "metadata": {},
   "outputs": [],
   "source": [
    "with open('geocoded_data_with_gdp.json', 'r') as f:\n",
    "    geocoded_data = json.load(f)"
   ]
  },
  {
   "cell_type": "code",
   "execution_count": 21,
   "metadata": {},
   "outputs": [],
   "source": [
    "heatmap_layer = folium.FeatureGroup(name='Heatmap')\n",
    "marker_layer = folium.FeatureGroup(name='Markers')"
   ]
  },
  {
   "cell_type": "code",
   "execution_count": 23,
   "metadata": {},
   "outputs": [],
   "source": [
    "# Adding markers to the map\n",
    "for item in geocoded_data:\n",
    "    if item['lat'] and item['lon']:\n",
    "        folium.Marker(\n",
    "            location=[item['lat'], item['lon']],\n",
    "            popup=(\n",
    "                f\"Country: {item['country']}<br>\"\n",
    "                f\"GDP 2018: ${item['gdp_2018']}<br>\"\n",
    "                f\"GDP 2022: ${item['gdp_2022']}\"\n",
    "            ),\n",
    "            icon=folium.Icon(color='blue')\n",
    "        ).add_to(marker_layer)\n",
    "\n",
    "# Preparing heatmap data\n",
    "heatmap_data = []\n",
    "for item in geocoded_data:\n",
    "    try:\n",
    "        lat = float(item['lat'])\n",
    "        lon = float(item['lon'])\n",
    "        gdp_2018 = float(item['gdp_2018'])  # Ensure GDP is numeric\n",
    "        if lat is not None and lon is not None and gdp_2018 is not None:\n",
    "            heatmap_data.append([lat, lon, gdp_2018])\n",
    "    except (ValueError, TypeError):\n",
    "        # Skip invalid data without printing\n",
    "        pass\n",
    "\n",
    "# Adding heatmap to the map\n",
    "if heatmap_data:\n",
    "    HeatMap(heatmap_data).add_to(heatmap_layer)\n",
    "\n",
    "# Adding layers and saving the map\n",
    "heatmap_layer.add_to(m)\n",
    "marker_layer.add_to(m)\n",
    "folium.LayerControl().add_to(m)\n",
    "m.save('gdp.map.html')\n"
   ]
  },
  {
   "cell_type": "code",
   "execution_count": null,
   "metadata": {},
   "outputs": [],
   "source": []
  }
 ],
 "metadata": {
  "kernelspec": {
   "display_name": "dev",
   "language": "python",
   "name": "python3"
  },
  "language_info": {
   "codemirror_mode": {
    "name": "ipython",
    "version": 3
   },
   "file_extension": ".py",
   "mimetype": "text/x-python",
   "name": "python",
   "nbconvert_exporter": "python",
   "pygments_lexer": "ipython3",
   "version": "3.11.7"
  }
 },
 "nbformat": 4,
 "nbformat_minor": 2
}
